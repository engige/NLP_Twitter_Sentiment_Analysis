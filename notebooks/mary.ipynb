{
 "cells": [
  {
   "cell_type": "markdown",
   "metadata": {},
   "source": [
    "## **Importing Libraries**"
   ]
  },
  {
   "cell_type": "code",
   "execution_count": 76,
   "metadata": {},
   "outputs": [],
   "source": [
    "# General Libraries\n",
    "import pandas as pd\n",
    "import numpy as np\n",
    "import warnings\n",
    "warnings.filterwarnings('ignore')\n",
    "\n",
    "# Plotting Libraries\n",
    "import matplotlib.pyplot as plt\n",
    "import seaborn as sns\n",
    "%matplotlib inline\n",
    "import matplotlib.cm as cm\n",
    "from matplotlib import rcParams\n",
    "plt.style.use('ggplot')\n",
    "\n",
    "# Machine Learnings Libraries\n",
    "from sklearn.metrics import roc_curve, auc, classification_report, confusion_matrix\n",
    "from sklearn.model_selection import train_test_split\n",
    "# NLP Libraries\n",
    "import nltk\n",
    "from nltk.corpus import stopwords\n",
    "from nltk.stem import WordNetLemmatizer\n",
    "from nltk.tokenize import word_tokenize\n",
    "import re\n",
    "import string\n",
    "from nltk.tokenize import RegexpTokenizer\n",
    "\n"
   ]
  },
  {
   "cell_type": "markdown",
   "metadata": {},
   "source": [
    "## **Loading Dataset**"
   ]
  },
  {
   "cell_type": "code",
   "execution_count": 77,
   "metadata": {},
   "outputs": [
    {
     "data": {
      "text/html": [
       "<div>\n",
       "<style scoped>\n",
       "    .dataframe tbody tr th:only-of-type {\n",
       "        vertical-align: middle;\n",
       "    }\n",
       "\n",
       "    .dataframe tbody tr th {\n",
       "        vertical-align: top;\n",
       "    }\n",
       "\n",
       "    .dataframe thead th {\n",
       "        text-align: right;\n",
       "    }\n",
       "</style>\n",
       "<table border=\"1\" class=\"dataframe\">\n",
       "  <thead>\n",
       "    <tr style=\"text-align: right;\">\n",
       "      <th></th>\n",
       "      <th>tweet_text</th>\n",
       "      <th>emotion_in_tweet_is_directed_at</th>\n",
       "      <th>is_there_an_emotion_directed_at_a_brand_or_product</th>\n",
       "    </tr>\n",
       "  </thead>\n",
       "  <tbody>\n",
       "    <tr>\n",
       "      <th>0</th>\n",
       "      <td>.@wesley83 I have a 3G iPhone. After 3 hrs twe...</td>\n",
       "      <td>iPhone</td>\n",
       "      <td>Negative emotion</td>\n",
       "    </tr>\n",
       "    <tr>\n",
       "      <th>1</th>\n",
       "      <td>@jessedee Know about @fludapp ? Awesome iPad/i...</td>\n",
       "      <td>iPad or iPhone App</td>\n",
       "      <td>Positive emotion</td>\n",
       "    </tr>\n",
       "    <tr>\n",
       "      <th>2</th>\n",
       "      <td>@swonderlin Can not wait for #iPad 2 also. The...</td>\n",
       "      <td>iPad</td>\n",
       "      <td>Positive emotion</td>\n",
       "    </tr>\n",
       "    <tr>\n",
       "      <th>3</th>\n",
       "      <td>@sxsw I hope this year's festival isn't as cra...</td>\n",
       "      <td>iPad or iPhone App</td>\n",
       "      <td>Negative emotion</td>\n",
       "    </tr>\n",
       "    <tr>\n",
       "      <th>4</th>\n",
       "      <td>@sxtxstate great stuff on Fri #SXSW: Marissa M...</td>\n",
       "      <td>Google</td>\n",
       "      <td>Positive emotion</td>\n",
       "    </tr>\n",
       "  </tbody>\n",
       "</table>\n",
       "</div>"
      ],
      "text/plain": [
       "                                          tweet_text  \\\n",
       "0  .@wesley83 I have a 3G iPhone. After 3 hrs twe...   \n",
       "1  @jessedee Know about @fludapp ? Awesome iPad/i...   \n",
       "2  @swonderlin Can not wait for #iPad 2 also. The...   \n",
       "3  @sxsw I hope this year's festival isn't as cra...   \n",
       "4  @sxtxstate great stuff on Fri #SXSW: Marissa M...   \n",
       "\n",
       "  emotion_in_tweet_is_directed_at  \\\n",
       "0                          iPhone   \n",
       "1              iPad or iPhone App   \n",
       "2                            iPad   \n",
       "3              iPad or iPhone App   \n",
       "4                          Google   \n",
       "\n",
       "  is_there_an_emotion_directed_at_a_brand_or_product  \n",
       "0                                   Negative emotion  \n",
       "1                                   Positive emotion  \n",
       "2                                   Positive emotion  \n",
       "3                                   Negative emotion  \n",
       "4                                   Positive emotion  "
      ]
     },
     "execution_count": 77,
     "metadata": {},
     "output_type": "execute_result"
    }
   ],
   "source": [
    "#Loading dataset\n",
    "df = pd.read_csv('../data_file/tweet_sentiments.csv', encoding='ISO-8859-1')\n",
    "\n",
    "#Display The first five columns of the dataset\n",
    "df.head()\n"
   ]
  },
  {
   "cell_type": "markdown",
   "metadata": {},
   "source": [
    "## **Exploratory Data Analysis**"
   ]
  },
  {
   "cell_type": "code",
   "execution_count": 78,
   "metadata": {},
   "outputs": [
    {
     "data": {
      "text/plain": [
       "(9093, 3)"
      ]
     },
     "execution_count": 78,
     "metadata": {},
     "output_type": "execute_result"
    }
   ],
   "source": [
    "#Checking the shape of the  dataset\n",
    "df.shape"
   ]
  },
  {
   "cell_type": "markdown",
   "metadata": {},
   "source": [
    "The shape of our dataset, (9093, 3), which indicates that we have 9,093 rows and 3 columns. Here's a breakdown of what each dimension typically represents in this context:\n",
    "\n",
    "Rows (9093): This is the number of tweets in our dataset, meaning we have 9,093 individual tweets to analyze.\n",
    "\n",
    "Columns (3): This likely represents:\n",
    "\n",
    "**tweet_text:** The text content of the tweet.\n",
    "\n",
    "**emotion_in_tweet_is_directed_at:** The specific brand or product that the emotion in the tweet is directed towards.\n",
    "\n",
    "**is_there_an_emotion_directed_at_a_brand_or_product:** The sentiment or emotion expressed in relation to the brand or product (e.g., positive or negative)."
   ]
  },
  {
   "cell_type": "code",
   "execution_count": 79,
   "metadata": {},
   "outputs": [
    {
     "data": {
      "text/plain": [
       "<bound method DataFrame.info of                                              tweet_text  \\\n",
       "0     .@wesley83 I have a 3G iPhone. After 3 hrs twe...   \n",
       "1     @jessedee Know about @fludapp ? Awesome iPad/i...   \n",
       "2     @swonderlin Can not wait for #iPad 2 also. The...   \n",
       "3     @sxsw I hope this year's festival isn't as cra...   \n",
       "4     @sxtxstate great stuff on Fri #SXSW: Marissa M...   \n",
       "...                                                 ...   \n",
       "9088                      Ipad everywhere. #SXSW {link}   \n",
       "9089  Wave, buzz... RT @mention We interrupt your re...   \n",
       "9090  Google's Zeiger, a physician never reported po...   \n",
       "9091  Some Verizon iPhone customers complained their...   \n",
       "9092  Ï¡Ïàü_ÊÎÒ£Áââ_£â_ÛâRT @...   \n",
       "\n",
       "     emotion_in_tweet_is_directed_at  \\\n",
       "0                             iPhone   \n",
       "1                 iPad or iPhone App   \n",
       "2                               iPad   \n",
       "3                 iPad or iPhone App   \n",
       "4                             Google   \n",
       "...                              ...   \n",
       "9088                            iPad   \n",
       "9089                             NaN   \n",
       "9090                             NaN   \n",
       "9091                             NaN   \n",
       "9092                             NaN   \n",
       "\n",
       "     is_there_an_emotion_directed_at_a_brand_or_product  \n",
       "0                                      Negative emotion  \n",
       "1                                      Positive emotion  \n",
       "2                                      Positive emotion  \n",
       "3                                      Negative emotion  \n",
       "4                                      Positive emotion  \n",
       "...                                                 ...  \n",
       "9088                                   Positive emotion  \n",
       "9089                 No emotion toward brand or product  \n",
       "9090                 No emotion toward brand or product  \n",
       "9091                 No emotion toward brand or product  \n",
       "9092                 No emotion toward brand or product  \n",
       "\n",
       "[9093 rows x 3 columns]>"
      ]
     },
     "execution_count": 79,
     "metadata": {},
     "output_type": "execute_result"
    }
   ],
   "source": [
    "df.info"
   ]
  },
  {
   "cell_type": "code",
   "execution_count": 80,
   "metadata": {},
   "outputs": [
    {
     "data": {
      "text/plain": [
       "tweet_text                                               1\n",
       "emotion_in_tweet_is_directed_at                       5802\n",
       "is_there_an_emotion_directed_at_a_brand_or_product       0\n",
       "dtype: int64"
      ]
     },
     "execution_count": 80,
     "metadata": {},
     "output_type": "execute_result"
    }
   ],
   "source": [
    "# Check for any missing values \n",
    "df.isnull().sum()\n"
   ]
  },
  {
   "cell_type": "code",
   "execution_count": 99,
   "metadata": {},
   "outputs": [
    {
     "name": "stdout",
     "output_type": "stream",
     "text": [
      "Missing tweet text:\n",
      "  tweet_text emotion_in_tweet_is_directed_at  \\\n",
      "6        NaN                             NaN   \n",
      "\n",
      "  is_there_an_emotion_directed_at_a_brand_or_product  \n",
      "6                 No emotion toward brand or product  \n",
      "Number of missing emotions directed at a brand or product: 5802\n",
      "Distribution of sentiment toward brand or product:\n",
      "No emotion toward brand or product    5389\n",
      "Positive emotion                      2978\n",
      "Negative emotion                       570\n",
      "I can't tell                           156\n",
      "Name: is_there_an_emotion_directed_at_a_brand_or_product, dtype: int64\n",
      "<class 'pandas.core.frame.DataFrame'>\n",
      "RangeIndex: 9093 entries, 0 to 9092\n",
      "Data columns (total 3 columns):\n",
      " #   Column                                              Non-Null Count  Dtype \n",
      "---  ------                                              --------------  ----- \n",
      " 0   tweet_text                                          9092 non-null   object\n",
      " 1   emotion_in_tweet_is_directed_at                     3291 non-null   object\n",
      " 2   is_there_an_emotion_directed_at_a_brand_or_product  9093 non-null   object\n",
      "dtypes: object(3)\n",
      "memory usage: 213.2+ KB\n"
     ]
    }
   ],
   "source": [
    "# Check which entry is missing in tweet_text\n",
    "missing_tweet = df[df['tweet_text'].isnull()]\n",
    "print(\"Missing tweet text:\")\n",
    "print(missing_tweet)\n",
    "\n",
    "# Analyze the distribution of emotions directed at brands/products\n",
    "emotion_counts = df['emotion_in_tweet_is_directed_at'].isnull().sum()\n",
    "print(f\"Number of missing emotions directed at a brand or product: {emotion_counts}\")\n",
    "\n",
    "# Check the distribution of values in the sentiment column\n",
    "sentiment_counts = df['is_there_an_emotion_directed_at_a_brand_or_product'].value_counts()\n",
    "print(\"Distribution of sentiment toward brand or product:\")\n",
    "print(sentiment_counts)\n",
    "df.info()"
   ]
  },
  {
   "cell_type": "code",
   "execution_count": 100,
   "metadata": {},
   "outputs": [
    {
     "data": {
      "image/png": "[encoded data removed]",
      "text/plain": [
       "<Figure size 576x432 with 1 Axes>"
      ]
     },
     "metadata": {},
     "output_type": "display_data"
    }
   ],
   "source": [
    "# Check the distribution of the sentiment\n",
    "sentiment_distribution = df['is_there_an_emotion_directed_at_a_brand_or_product'].value_counts()\n",
    "\n",
    "# Visualize the sentiment distribution\n",
    "plt.figure(figsize=(8, 6))\n",
    "ax = sentiment_distribution.plot(kind='bar', color=['skyblue', 'green', 'red', 'gray'])\n",
    "plt.title('Sentiment Distribution')\n",
    "plt.xlabel('Sentiment')\n",
    "plt.ylabel('Number of Tweets')\n",
    "plt.xticks(rotation=90)\n",
    "\n",
    "# Add count labels on top of each bar\n",
    "for p in ax.patches:\n",
    "    ax.annotate(str(p.get_height()), (p.get_x() + p.get_width() / 2, p.get_height()), \n",
    "                ha='center', va='bottom')\n",
    "\n",
    "plt.show()"
   ]
  },
  {
   "cell_type": "markdown",
   "metadata": {},
   "source": [
    "\n",
    "**Sentiment Toward Brand or Product (is_there_an_emotion_directed_at_a_brand_or_product)**\n",
    "\n",
    "The distribution is:\n",
    "\n",
    "5389 entries show no emotion toward a brand or product.\n",
    "\n",
    "2978 entries show positive emotion.\n",
    "\n",
    "570 entries show negative emotion.\n",
    "\n",
    "156 entries have the value \"I can't tell.\n",
    "\n",
    "**Missing Tweet Text**\n",
    "\n",
    "The cleaned dataset now has 9092 rows, with no missing entries in the tweet_text column. This means that our original dataset contained 9093 rows, but after removing the rows with missing tweet_text, we were left with 9092 rows. This is a small reduction in the number of rows, but it is a necessary step to ensure that we have a complete dataset for analysis.\n",
    "\n"
   ]
  },
  {
   "cell_type": "code",
   "execution_count": 101,
   "metadata": {},
   "outputs": [
    {
     "data": {
      "image/png": "[encoded data removed]",
      "text/plain": [
       "<Figure size 576x432 with 1 Axes>"
      ]
     },
     "metadata": {},
     "output_type": "display_data"
    }
   ],
   "source": [
    "# Analyze the text length by calculating the number of characters in each tweet\n",
    "tweet_lengths = df['tweet_text'].str.len()\n",
    "\n",
    "# Plot the distribution of tweet lengths\n",
    "plt.figure(figsize=(8, 6))\n",
    "plt.hist(tweet_lengths, bins=30, color='skyblue', edgecolor='black')\n",
    "plt.title('Distribution of Tweet Lengths')\n",
    "plt.xlabel('Tweet Length (Number of Characters)')\n",
    "plt.ylabel('Frequency')\n",
    "plt.show()"
   ]
  },
  {
   "cell_type": "code",
   "execution_count": 103,
   "metadata": {},
   "outputs": [
    {
     "data": {
      "text/plain": [
       "([('#sxsw', 2506),\n",
       "  ('@mention', 2062),\n",
       "  ('the', 1578),\n",
       "  ('{link}', 1202),\n",
       "  ('to', 1146),\n",
       "  ('at', 999),\n",
       "  ('rt', 913),\n",
       "  ('for', 904),\n",
       "  ('ipad', 793),\n",
       "  ('a', 777)],\n",
       " [('#sxsw', 512),\n",
       "  ('the', 300),\n",
       "  ('@mention', 292),\n",
       "  ('to', 255),\n",
       "  ('is', 159),\n",
       "  ('a', 151),\n",
       "  ('ipad', 140),\n",
       "  ('at', 137),\n",
       "  ('rt', 137),\n",
       "  ('of', 131)],\n",
       " [('#sxsw', 4680),\n",
       "  ('@mention', 4249),\n",
       "  ('{link}', 2904),\n",
       "  ('the', 2409),\n",
       "  ('to', 2112),\n",
       "  ('at', 1868),\n",
       "  ('rt', 1814),\n",
       "  ('for', 1474),\n",
       "  ('a', 1281),\n",
       "  ('google', 1187)])"
      ]
     },
     "execution_count": 103,
     "metadata": {},
     "output_type": "execute_result"
    }
   ],
   "source": [
    "# Clean the tweet_text by dropping rows with missing text values\n",
    "df_cleaned = df.dropna(subset=['tweet_text'])\n",
    "\n",
    "# Tokenize the cleaned tweets by sentiment\n",
    "positive_tweets = df_cleaned[df_cleaned['is_there_an_emotion_directed_at_a_brand_or_product'] == 'Positive emotion']['tweet_text'].str.split()\n",
    "negative_tweets = df_cleaned[df_cleaned['is_there_an_emotion_directed_at_a_brand_or_product'] == 'Negative emotion']['tweet_text'].str.split()\n",
    "neutral_tweets = df_cleaned[df_cleaned['is_there_an_emotion_directed_at_a_brand_or_product'] == 'No emotion toward brand or product']['tweet_text'].str.split()\n",
    "\n",
    "# Flatten the tokenized tweets into a single list per sentiment\n",
    "positive_words = [word.lower() for tweet in positive_tweets for word in tweet if word]\n",
    "negative_words = [word.lower() for tweet in negative_tweets for word in tweet if word]\n",
    "neutral_words = [word.lower() for tweet in neutral_tweets for word in tweet if word]\n",
    "\n",
    "# Count the most common words in each sentiment\n",
    "positive_common_words = Counter(positive_words).most_common(10)\n",
    "negative_common_words = Counter(negative_words).most_common(10)\n",
    "neutral_common_words = Counter(neutral_words).most_common(10)\n",
    "\n",
    "positive_common_words, negative_common_words, neutral_common_words"
   ]
  },
  {
   "cell_type": "markdown",
   "metadata": {},
   "source": [
    "## **Text Preprocessing**\n",
    "\n",
    "To prepare the tweet text for analysis, we'll remove unnecessary elements such as punctuation, stopwords, and special characters. We'll also convert all text to lowercase and perform tokenization. This step will make the text suitable for feeding into a machine learning model."
   ]
  },
  {
   "cell_type": "code",
   "execution_count": 113,
   "metadata": {},
   "outputs": [
    {
     "data": {
      "text/html": [
       "<div>\n",
       "<style scoped>\n",
       "    .dataframe tbody tr th:only-of-type {\n",
       "        vertical-align: middle;\n",
       "    }\n",
       "\n",
       "    .dataframe tbody tr th {\n",
       "        vertical-align: top;\n",
       "    }\n",
       "\n",
       "    .dataframe thead th {\n",
       "        text-align: right;\n",
       "    }\n",
       "</style>\n",
       "<table border=\"1\" class=\"dataframe\">\n",
       "  <thead>\n",
       "    <tr style=\"text-align: right;\">\n",
       "      <th></th>\n",
       "      <th>tweet_text</th>\n",
       "      <th>sentiment</th>\n",
       "    </tr>\n",
       "  </thead>\n",
       "  <tbody>\n",
       "    <tr>\n",
       "      <th>0</th>\n",
       "      <td>.@wesley83 I have a 3G iPhone. After 3 hrs twe...</td>\n",
       "      <td>Negative emotion</td>\n",
       "    </tr>\n",
       "    <tr>\n",
       "      <th>1</th>\n",
       "      <td>@jessedee Know about @fludapp ? Awesome iPad/i...</td>\n",
       "      <td>Positive emotion</td>\n",
       "    </tr>\n",
       "    <tr>\n",
       "      <th>2</th>\n",
       "      <td>@swonderlin Can not wait for #iPad 2 also. The...</td>\n",
       "      <td>Positive emotion</td>\n",
       "    </tr>\n",
       "    <tr>\n",
       "      <th>3</th>\n",
       "      <td>@sxsw I hope this year's festival isn't as cra...</td>\n",
       "      <td>Negative emotion</td>\n",
       "    </tr>\n",
       "    <tr>\n",
       "      <th>4</th>\n",
       "      <td>@sxtxstate great stuff on Fri #SXSW: Marissa M...</td>\n",
       "      <td>Positive emotion</td>\n",
       "    </tr>\n",
       "  </tbody>\n",
       "</table>\n",
       "</div>"
      ],
      "text/plain": [
       "                                          tweet_text         sentiment\n",
       "0  .@wesley83 I have a 3G iPhone. After 3 hrs twe...  Negative emotion\n",
       "1  @jessedee Know about @fludapp ? Awesome iPad/i...  Positive emotion\n",
       "2  @swonderlin Can not wait for #iPad 2 also. The...  Positive emotion\n",
       "3  @sxsw I hope this year's festival isn't as cra...  Negative emotion\n",
       "4  @sxtxstate great stuff on Fri #SXSW: Marissa M...  Positive emotion"
      ]
     },
     "execution_count": 113,
     "metadata": {},
     "output_type": "execute_result"
    }
   ],
   "source": [
    "# Drop rows with missing 'tweet_text' and the unnecessary 'emotion_in_tweet_is_directed_at' column\n",
    "df_cleaned = df_cleaned.dropna(subset=['tweet_text']).drop(columns=['emotion_in_tweet_is_directed_at'])\n",
    "\n",
    "# Rename the 'is_there_an_emotion_directed_at_a_brand_or_product' column to 'sentiment'\n",
    "df_cleaned = df_cleaned.rename(columns={'is_there_an_emotion_directed_at_a_brand_or_product': 'sentiment'})\n",
    "\n",
    "# Remove rows where 'sentiment' column has \"I can't tell\"\n",
    "df_cleaned = df_cleaned[df_cleaned['sentiment'] != \"I can't tell\"]\n",
    "\n",
    "# Rename 'No emotion toward brand or product' to 'Neutral emotion'\n",
    "df_cleaned['sentiment'] = df_cleaned['sentiment'].replace(\"No emotion toward brand or product\", \"Neutral emotion\")\n",
    "\n",
    "# Display the first few rows of the cleaned dataset\n",
    "df_cleaned.head()"
   ]
  },
  {
   "cell_type": "code",
   "execution_count": 114,
   "metadata": {},
   "outputs": [
    {
     "data": {
      "text/html": [
       "<div>\n",
       "<style scoped>\n",
       "    .dataframe tbody tr th:only-of-type {\n",
       "        vertical-align: middle;\n",
       "    }\n",
       "\n",
       "    .dataframe tbody tr th {\n",
       "        vertical-align: top;\n",
       "    }\n",
       "\n",
       "    .dataframe thead th {\n",
       "        text-align: right;\n",
       "    }\n",
       "</style>\n",
       "<table border=\"1\" class=\"dataframe\">\n",
       "  <thead>\n",
       "    <tr style=\"text-align: right;\">\n",
       "      <th></th>\n",
       "      <th>tweet_text</th>\n",
       "      <th>processed_text</th>\n",
       "    </tr>\n",
       "  </thead>\n",
       "  <tbody>\n",
       "    <tr>\n",
       "      <th>0</th>\n",
       "      <td>.@wesley83 I have a 3G iPhone. After 3 hrs twe...</td>\n",
       "      <td>g iphone hrs tweeting riseaustin dead need upg...</td>\n",
       "    </tr>\n",
       "    <tr>\n",
       "      <th>1</th>\n",
       "      <td>@jessedee Know about @fludapp ? Awesome iPad/i...</td>\n",
       "      <td>know awesome ipadiphone app youll likely appre...</td>\n",
       "    </tr>\n",
       "    <tr>\n",
       "      <th>2</th>\n",
       "      <td>@swonderlin Can not wait for #iPad 2 also. The...</td>\n",
       "      <td>wait ipad also sale sxsw</td>\n",
       "    </tr>\n",
       "    <tr>\n",
       "      <th>3</th>\n",
       "      <td>@sxsw I hope this year's festival isn't as cra...</td>\n",
       "      <td>hope years festival isnt crashy years iphone a...</td>\n",
       "    </tr>\n",
       "    <tr>\n",
       "      <th>4</th>\n",
       "      <td>@sxtxstate great stuff on Fri #SXSW: Marissa M...</td>\n",
       "      <td>great stuff fri sxsw marissa mayer google tim ...</td>\n",
       "    </tr>\n",
       "  </tbody>\n",
       "</table>\n",
       "</div>"
      ],
      "text/plain": [
       "                                          tweet_text  \\\n",
       "0  .@wesley83 I have a 3G iPhone. After 3 hrs twe...   \n",
       "1  @jessedee Know about @fludapp ? Awesome iPad/i...   \n",
       "2  @swonderlin Can not wait for #iPad 2 also. The...   \n",
       "3  @sxsw I hope this year's festival isn't as cra...   \n",
       "4  @sxtxstate great stuff on Fri #SXSW: Marissa M...   \n",
       "\n",
       "                                      processed_text  \n",
       "0  g iphone hrs tweeting riseaustin dead need upg...  \n",
       "1  know awesome ipadiphone app youll likely appre...  \n",
       "2                           wait ipad also sale sxsw  \n",
       "3  hope years festival isnt crashy years iphone a...  \n",
       "4  great stuff fri sxsw marissa mayer google tim ...  "
      ]
     },
     "execution_count": 114,
     "metadata": {},
     "output_type": "execute_result"
    }
   ],
   "source": [
    "# Define a function to clean and preprocess text\n",
    "def preprocess_text(text):\n",
    "    # Remove URLs\n",
    "    text = re.sub(r'http\\S+', '', text)\n",
    "    # Remove mentions (@username)\n",
    "    text = re.sub(r'@\\w+', '', text)\n",
    "    # Remove special characters and numbers\n",
    "    text = re.sub(r'[^a-zA-Z\\s]', '', text)\n",
    "    # Convert to lowercase\n",
    "    text = text.lower()\n",
    "    # Remove stopwords\n",
    "    stop_words = set(stopwords.words('english'))\n",
    "    text = ' '.join(word for word in text.split() if word not in stop_words)\n",
    "    return text\n",
    "\n",
    "# Apply the preprocessing function to the 'text' column\n",
    "df_cleaned['processed_text'] = df_cleaned['tweet_text'].apply(preprocess_text)\n",
    "\n",
    "# Display the cleaned text data\n",
    "df_cleaned[['tweet_text', 'processed_text']].head()\n"
   ]
  },
  {
   "cell_type": "markdown",
   "metadata": {},
   "source": [
    "**Cleaning and Removing Punctuation**"
   ]
  },
  {
   "cell_type": "code",
   "execution_count": 116,
   "metadata": {},
   "outputs": [],
   "source": [
    "english_punctuation = string.punctuation\n",
    "punctuation_list = english_punctuation\n",
    "def cleaning_punctuation(text):\n",
    "  translator = str.maketrans('', '', punctuation_list)\n",
    "  return text.translate(translator)"
   ]
  },
  {
   "cell_type": "code",
   "execution_count": 117,
   "metadata": {},
   "outputs": [
    {
     "data": {
      "text/plain": [
       "0    wesley83 I have a 3G iPhone After 3 hrs tweeti...\n",
       "1    jessedee Know about fludapp  Awesome iPadiPhon...\n",
       "2    swonderlin Can not wait for iPad 2 also They s...\n",
       "3    sxsw I hope this years festival isnt as crashy...\n",
       "4    sxtxstate great stuff on Fri SXSW Marissa Maye...\n",
       "Name: tweet_text, dtype: object"
      ]
     },
     "execution_count": 117,
     "metadata": {},
     "output_type": "execute_result"
    }
   ],
   "source": [
    "df_cleaned['tweet_text'] = df_cleaned['tweet_text'].apply(lambda x: cleaning_punctuation(x))\n",
    "df_cleaned[\"tweet_text\"].head()"
   ]
  },
  {
   "cell_type": "markdown",
   "metadata": {},
   "source": [
    "**Removing Numeric Values**"
   ]
  },
  {
   "cell_type": "code",
   "execution_count": 118,
   "metadata": {},
   "outputs": [
    {
     "data": {
      "text/plain": [
       "0    wesley I have a G iPhone After  hrs tweeting a...\n",
       "1    jessedee Know about fludapp  Awesome iPadiPhon...\n",
       "2    swonderlin Can not wait for iPad  also They sh...\n",
       "3    sxsw I hope this years festival isnt as crashy...\n",
       "4    sxtxstate great stuff on Fri SXSW Marissa Maye...\n",
       "Name: tweet_text, dtype: object"
      ]
     },
     "execution_count": 118,
     "metadata": {},
     "output_type": "execute_result"
    }
   ],
   "source": [
    "def cleaning_numbers(text):\n",
    "  return re.sub('[0-9]+', '', text)\n",
    "df_cleaned['tweet_text'] = df_cleaned['tweet_text'].apply(lambda x: cleaning_numbers(x))\n",
    "df_cleaned[\"tweet_text\"].head()"
   ]
  },
  {
   "cell_type": "markdown",
   "metadata": {},
   "source": [
    "**Getting Tokenization Of Tweet Text**"
   ]
  },
  {
   "cell_type": "code",
   "execution_count": 119,
   "metadata": {},
   "outputs": [
    {
     "data": {
      "text/plain": [
       "0    [wesley, I, have, a, G, iPhone, After, hrs, tw...\n",
       "1    [jessedee, Know, about, fludapp, Awesome, iPad...\n",
       "Name: tweet_text, dtype: object"
      ]
     },
     "execution_count": 119,
     "metadata": {},
     "output_type": "execute_result"
    }
   ],
   "source": [
    "tokenizer = RegexpTokenizer(r'\\w+') # this match one or more words, digits, underscores\n",
    "df_cleaned['tweet_text'] = df_cleaned['tweet_text'].apply(tokenizer.tokenize)\n",
    "df_cleaned['tweet_text'].head(2)"
   ]
  },
  {
   "cell_type": "markdown",
   "metadata": {},
   "source": [
    "**Applyig Stemming**"
   ]
  },
  {
   "cell_type": "code",
   "execution_count": 120,
   "metadata": {},
   "outputs": [
    {
     "data": {
      "text/plain": [
       "0    [wesley, I, have, a, G, iphon, after, hr, twee...\n",
       "1    [jessede, know, about, fludapp, awesom, ipadip...\n",
       "2    [swonderlin, can, not, wait, for, ipad, also, ...\n",
       "3    [sxsw, I, hope, thi, year, festiv, isnt, as, c...\n",
       "4    [sxtxstate, great, stuff, on, fri, sxsw, maris...\n",
       "Name: tweet_text, dtype: object"
      ]
     },
     "execution_count": 120,
     "metadata": {},
     "output_type": "execute_result"
    }
   ],
   "source": [
    "st = nltk.PorterStemmer()\n",
    "\n",
    "def stemming_on_text(data):\n",
    "  text = [st.stem(word) for word in data]\n",
    "  return text\n",
    "df_cleaned['tweet_text'] = df_cleaned['tweet_text'].apply(lambda x: stemming_on_text(x))\n",
    "df_cleaned['tweet_text'].head()"
   ]
  },
  {
   "cell_type": "markdown",
   "metadata": {},
   "source": [
    "**Applying Lemmatization**"
   ]
  },
  {
   "cell_type": "code",
   "execution_count": 89,
   "metadata": {},
   "outputs": [],
   "source": [
    "lm = nltk.WordNetLemmatizer()\n",
    "\n",
    "def lemmatizer_on_text(data):\n",
    "  text = [lm.lemmatize(word) for word in data]\n",
    "  return text"
   ]
  },
  {
   "cell_type": "code",
   "execution_count": 121,
   "metadata": {},
   "outputs": [
    {
     "name": "stderr",
     "output_type": "stream",
     "text": [
      "[nltk_data] Downloading package wordnet to\n",
      "[nltk_data]     C:\\Users\\MARY\\AppData\\Roaming\\nltk_data...\n",
      "[nltk_data]   Package wordnet is already up-to-date!\n",
      "[nltk_data] Downloading package punkt to\n",
      "[nltk_data]     C:\\Users\\MARY\\AppData\\Roaming\\nltk_data...\n",
      "[nltk_data]   Package punkt is already up-to-date!\n"
     ]
    },
    {
     "data": {
      "text/plain": [
       "True"
      ]
     },
     "execution_count": 121,
     "metadata": {},
     "output_type": "execute_result"
    }
   ],
   "source": [
    "nltk.download('wordnet')\n",
    "nltk.download('punkt')"
   ]
  },
  {
   "cell_type": "code",
   "execution_count": 122,
   "metadata": {},
   "outputs": [
    {
     "data": {
      "text/plain": [
       "0    [wesley, I, have, a, G, iphon, after, hr, twee...\n",
       "1    [jessede, know, about, fludapp, awesom, ipadip...\n",
       "2    [swonderlin, can, not, wait, for, ipad, also, ...\n",
       "3    [sxsw, I, hope, thi, year, festiv, isnt, a, cr...\n",
       "Name: tweet_text, dtype: object"
      ]
     },
     "execution_count": 122,
     "metadata": {},
     "output_type": "execute_result"
    }
   ],
   "source": [
    "df_cleaned['tweet_text'] = df_cleaned['tweet_text'].apply(lambda x: lemmatizer_on_text(x))\n",
    "df_cleaned['tweet_text'].head(4)"
   ]
  },
  {
   "cell_type": "markdown",
   "metadata": {},
   "source": [
    " ## **Vectorizing the processed_text using TF-IDF** "
   ]
  },
  {
   "cell_type": "markdown",
   "metadata": {},
   "source": [
    "Step 1: TF-IDF Vectorization\n",
    "\n",
    "We’ll use TfidfVectorizer from sklearn to transform the processed_text.\n",
    "\n",
    "Step 2: Train-Test Split\n",
    "\n",
    "We’ll split the data into training and testing sets after vectorizing."
   ]
  },
  {
   "cell_type": "code",
   "execution_count": 124,
   "metadata": {},
   "outputs": [
    {
     "name": "stdout",
     "output_type": "stream",
     "text": [
      "Training data size: (7148, 5000)\n",
      "Test data size: (1788, 5000)\n"
     ]
    }
   ],
   "source": [
    "from sklearn.feature_extraction.text import TfidfVectorizer\n",
    "from sklearn.model_selection import train_test_split\n",
    "\n",
    "\n",
    "X = df_cleaned['processed_text']  # Feature: processed tweet text\n",
    "y = df_cleaned['sentiment']       # Target: sentiment labels\n",
    "\n",
    "# Initialize the TfidfVectorizer\n",
    "tfidf = TfidfVectorizer(max_features=5000, stop_words='english')  \n",
    "# Fit and transform the processed text into TF-IDF features\n",
    "X_tfidf = tfidf.fit_transform(X)\n",
    "\n",
    "# Perform the train-test split (80% train, 20% test)\n",
    "X_train, X_test, y_train, y_test = train_test_split(X_tfidf, y, test_size=0.2, random_state=42)\n",
    "\n",
    "# Display shape of training and testing data\n",
    "print(f\"Training data size: {X_train.shape}\")\n",
    "print(f\"Test data size: {X_test.shape}\")"
   ]
  },
  {
   "cell_type": "markdown",
   "metadata": {},
   "source": [
    "## **Model Building**\n",
    "\n",
    "Now that we have the text data vectorized and split, we'll now  train a classification model such as Logistic Regression,  or Random Forest.\n",
    "\n",
    "1. Logistic Regression"
   ]
  },
  {
   "cell_type": "code",
   "execution_count": 125,
   "metadata": {},
   "outputs": [
    {
     "name": "stdout",
     "output_type": "stream",
     "text": [
      "                  precision    recall  f1-score   support\n",
      "\n",
      "Negative emotion       0.55      0.05      0.09       126\n",
      " Neutral emotion       0.70      0.88      0.78      1094\n",
      "Positive emotion       0.63      0.46      0.53       568\n",
      "\n",
      "        accuracy                           0.69      1788\n",
      "       macro avg       0.63      0.46      0.47      1788\n",
      "    weighted avg       0.67      0.69      0.65      1788\n",
      "\n"
     ]
    }
   ],
   "source": [
    "from sklearn.linear_model import LogisticRegression\n",
    "from sklearn.metrics import classification_report\n",
    "\n",
    "# Initialize the model and set random at 42\n",
    "model = LogisticRegression(random_state=42)\n",
    "\n",
    "# Trainining our  model\n",
    "model.fit(X_train, y_train)\n",
    "\n",
    "# Making predictions\n",
    "y_pred = model.predict(X_test)\n",
    "\n",
    "# Evaluating the model performance\n",
    "print(classification_report(y_test, y_pred))"
   ]
  }
 ],
 "metadata": {
  "kernelspec": {
   "display_name": "learn-env",
   "language": "python",
   "name": "python3"
  },
  "language_info": {
   "codemirror_mode": {
    "name": "ipython",
    "version": 3
   },
   "file_extension": ".py",
   "mimetype": "text/x-python",
   "name": "python",
   "nbconvert_exporter": "python",
   "pygments_lexer": "ipython3",
   "version": "3.8.5"
  }
 },
 "nbformat": 4,
 "nbformat_minor": 2
}
